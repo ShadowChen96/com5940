{
 "cells": [
  {
   "cell_type": "markdown",
   "metadata": {},
   "source": [
    "<h1>MySQL and Airtable Data Access</h1>"
   ]
  },
  {
   "cell_type": "code",
   "execution_count": 10,
   "metadata": {},
   "outputs": [
    {
     "name": "stdout",
     "output_type": "stream",
     "text": [
      "Requirement already satisfied: PyMySQL in /opt/anaconda3/lib/python3.7/site-packages (0.9.3)\r\n"
     ]
    }
   ],
   "source": [
    "!pip install PyMySQL"
   ]
  },
  {
   "cell_type": "code",
   "execution_count": 12,
   "metadata": {},
   "outputs": [],
   "source": [
    "import pymysql.cursors\n",
    "connection = pymysql.connect(host=\"localhost\", \n",
    "                     user=\"root\",   \n",
    "                     passwd=\"root\", \n",
    "                     db=\"northamerica\",   \n",
    "                     charset='utf8mb4',\n",
    "                     cursorclass=pymysql.cursors.DictCursor)"
   ]
  },
  {
   "cell_type": "code",
   "execution_count": 14,
   "metadata": {},
   "outputs": [
    {
     "name": "stdout",
     "output_type": "stream",
     "text": [
      "\n",
      "\n",
      "[{'COL 1': 'tyname', 'COL 2': 'myfirstvisitdate', 'COL 3': 'countrybelonged', 'COL 4': 'dominantlanguage', 'COL 5': 'landingairportname', 'COL 6': 'myrecommendation', 'COL 7': 'photosviews', 'COL 8': 'howmanywonderfulcitytours'}, {'COL 1': 'Los Angeles', 'COL 2': '2014-12-19', 'COL 3': 'The U.S.', 'COL 4': 'English', 'COL 5': 'LAX', 'COL 6': '5', 'COL 7': 'LA.jpeg (https://dl.airtable.com/.attachments/c5836aca997590db209f5fb42efcadfe/f536b5ed/LA.jpeg)', 'COL 8': '4'}, {'COL 1': 'San Diego', 'COL 2': '2016-03-20', 'COL 3': 'The U.S.', 'COL 4': 'English', 'COL 5': '', 'COL 6': '4', 'COL 7': 'SD.jpeg (https://dl.airtable.com/.attachments/8b0b760300ee7186d6b922b457439f85/a2201548/SD.jpeg)', 'COL 8': '3'}, {'COL 1': 'Las Vegas', 'COL 2': '2017-04-06', 'COL 3': 'The U.S.', 'COL 4': 'English', 'COL 5': '', 'COL 6': '4', 'COL 7': 'LV.jpeg (https://dl.airtable.com/.attachments/bb112f56d9929e07c1a53a60cffa7c60/7c44b650/LV.jpeg)', 'COL 8': '2'}, {'COL 1': 'San Francisco/San Jose', 'COL 2': '2014-12-10', 'COL 3': 'The U.S.', 'COL 4': 'English', 'COL 5': 'SFO', 'COL 6': '5', 'COL 7': 'SF.jpeg (https://dl.airtable.com/.attachments/43dbfebaf990c36240f22b989bb9ad61/219a6854/SF.jpeg)', 'COL 8': '3'}, {'COL 1': 'Seattle', 'COL 2': '2016-05-21', 'COL 3': 'The U.S.', 'COL 4': 'English', 'COL 5': 'SEA', 'COL 6': '5', 'COL 7': 'SEA.jpeg (https://dl.airtable.com/.attachments/3e4d9252147b2f9062aad2b4bfb57ece/d9444931/SEA.jpeg)', 'COL 8': '4'}, {'COL 1': 'Vancouver', 'COL 2': '2017-11-17', 'COL 3': 'Canada', 'COL 4': 'English', 'COL 5': '', 'COL 6': '5', 'COL 7': 'VANCOUVER.jpeg (https://dl.airtable.com/.attachments/2da8abe347051289e4d1ff7f2f278a08/d2e8f746/VANCOUVER.jpeg)', 'COL 8': '1'}, {'COL 1': 'Toronto', 'COL 2': '2018-03-25', 'COL 3': 'Canada', 'COL 4': 'English', 'COL 5': 'YYZ', 'COL 6': '5', 'COL 7': 'TORONTO.jpeg (https://dl.airtable.com/.attachments/3cb1423c9bd50071f9e6a7b4ce266494/65954e6a/TORONTO.jpeg)', 'COL 8': '3'}, {'COL 1': 'Quebec City', 'COL 2': '2018-03-28', 'COL 3': 'Canada', 'COL 4': 'English,French', 'COL 5': 'YQB', 'COL 6': '5', 'COL 7': 'Quebec.jpeg (https://dl.airtable.com/.attachments/66095e34d4227b889251be5e7e6f83f0/3da905be/Quebec.jpeg)', 'COL 8': '2'}, {'COL 1': 'Boston', 'COL 2': '2017-12-23', 'COL 3': 'The U.S.', 'COL 4': 'English', 'COL 5': 'BOS', 'COL 6': '3', 'COL 7': 'boston.jpeg (https://dl.airtable.com/.attachments/15b5c40aedca5bccc37e94c0a6b66282/304a086d/boston.jpeg)', 'COL 8': '1'}, {'COL 1': 'New York', 'COL 2': '2017-12-20', 'COL 3': 'The U.S.', 'COL 4': 'English', 'COL 5': 'JFK & EWR', 'COL 6': '5', 'COL 7': 'NYC.jpeg (https://dl.airtable.com/.attachments/bf246c10818889b9690781f1aad0d30b/87adeb08/NYC.jpeg)', 'COL 8': '7'}, {'COL 1': 'Philly', 'COL 2': '2018-11-22', 'COL 3': 'The U.S.', 'COL 4': 'English', 'COL 5': '', 'COL 6': '4', 'COL 7': 'PHILLY.jpeg (https://dl.airtable.com/.attachments/9a8dc40f12f7d1efea4ae31d7d361506/5eb271ac/PHILLY.jpeg)', 'COL 8': '2'}, {'COL 1': 'Orlando', 'COL 2': '2019-03-28', 'COL 3': 'The U.S.', 'COL 4': 'English', 'COL 5': '', 'COL 6': '4', 'COL 7': 'OELANDO.jpeg (https://dl.airtable.com/.attachments/b42fa59cc25c046216c5d36cedf26a03/ada64287/OELANDO.jpeg)', 'COL 8': '1'}, {'COL 1': 'Miami', 'COL 2': '2019-03-26', 'COL 3': 'The U.S.', 'COL 4': 'English,Spanish', 'COL 5': 'MIA', 'COL 6': '5', 'COL 7': 'MIAMI.jpeg (https://dl.airtable.com/.attachments/2631d16c3cfb35386f8fcf0d7e9c5cf3/15e19da2/MIAMI.jpeg)', 'COL 8': '2'}, {'COL 1': 'Havana', 'COL 2': '2019-03-22', 'COL 3': 'Cuba', 'COL 4': 'Spanish', 'COL 5': 'HAV', 'COL 6': '5', 'COL 7': 'HAVANA.jpeg (https://dl.airtable.com/.attachments/eb42bd949dd9f43b704b2ede7e774f0a/a42244bc/HAVANA.jpeg)', 'COL 8': '3'}]\n",
      "\n",
      "\n"
     ]
    }
   ],
   "source": [
    "with connection.cursor() as cursor:\n",
    "        sql = \"SELECT * FROM tablec\"\n",
    "        cursor.execute(sql)\n",
    "        result = cursor.fetchall()\n",
    "        dataset = []\n",
    "        temp = {}\n",
    "        i = 0\n",
    "        for row in result:\n",
    "            temp[i] = row\n",
    "            dataset.append(temp[i])\n",
    "            i = i + 1\n",
    "        print('\\n')\n",
    "        print(dataset)\n",
    "        print('\\n')"
   ]
  },
  {
   "cell_type": "code",
   "execution_count": 9,
   "metadata": {},
   "outputs": [
    {
     "name": "stdout",
     "output_type": "stream",
     "text": [
      "[{'cityname': 'Los Angeles', 'myrecommendation': 5, 'countrybelonged': 'The U.S.', 'myfirstvisitdate': '2014-12-19', 'landingairportname': 'LAX', 'photosviews': [{'id': 'attSU2DZS0wBxoRa5', 'url': 'https://dl.airtable.com/.attachments/c5836aca997590db209f5fb42efcadfe/f536b5ed/LA.jpeg', 'filename': 'LA.jpeg', 'size': 1644567, 'type': 'image/jpeg', 'thumbnails': {'small': {'url': 'https://dl.airtable.com/.attachmentThumbnails/fe9c515ff3c252f8f4c22abd7abbc228/80461e26', 'width': 54, 'height': 36}, 'large': {'url': 'https://dl.airtable.com/.attachmentThumbnails/45dd9a5037cf24aff5e6e6368ebc39f9/dde6a3ba', 'width': 770, 'height': 512}, 'full': {'url': 'https://dl.airtable.com/.attachmentThumbnails/2e17cdd023edddca601123c8c58a46f9/6ef7710a', 'width': 3000, 'height': 3000}}}], 'byairplane': ['recax7IVYuPCxBZFc', 'recH2X0537ppC1Map', 'recZlviwgcZfJM512', 'recqreHHGrauTCOsk'], 'bycar': ['recOFmuE2AHOGuC6d'], 'visastrategy': ['recYoSCYWcQIYmxkt'], 'citytour': ['reclvuDNgOAiXAU3Q', 'reczKMwgApQPS4YBW', 'recBkoZLRIcWFlsRp', 'rechQMkLCKDAMzdDU'], 'dominantlanguage': ['English'], 'howmanywonderfulcitytours': 4}, {'cityname': 'San Diego', 'myrecommendation': 4, 'countrybelonged': 'The U.S.', 'myfirstvisitdate': '2016-03-20', 'photosviews': [{'id': 'attcZcpAGNMWmAYYf', 'url': 'https://dl.airtable.com/.attachments/8b0b760300ee7186d6b922b457439f85/a2201548/SD.jpeg', 'filename': 'SD.jpeg', 'size': 189367, 'type': 'image/jpeg', 'thumbnails': {'small': {'url': 'https://dl.airtable.com/.attachmentThumbnails/5953fc3ff245dfb0240ef2bff036a0f3/0fdf1a0a', 'width': 27, 'height': 36}, 'large': {'url': 'https://dl.airtable.com/.attachmentThumbnails/7058dc1773f2483c666a0a13461e6230/3ea76905', 'width': 512, 'height': 683}, 'full': {'url': 'https://dl.airtable.com/.attachmentThumbnails/66812ce71d3a5725363023f29cb2934a/53115d21', 'width': 3000, 'height': 3000}}}], 'bycar': ['rec989YhfJILXhieT'], 'visastrategy': ['recYoSCYWcQIYmxkt'], 'citytour': ['rec9AQ2Nn0YkoVYvK', 'recCVMLc2ga8TPEFD', 'recMjuBQoz9lIDBAY'], 'dominantlanguage': ['English'], 'howmanywonderfulcitytours': 3}, {'cityname': 'Las Vegas', 'myrecommendation': 4, 'countrybelonged': 'The U.S.', 'myfirstvisitdate': '2017-04-06', 'photosviews': [{'id': 'attf7IvIVBXkvzCE6', 'url': 'https://dl.airtable.com/.attachments/bb112f56d9929e07c1a53a60cffa7c60/7c44b650/LV.jpeg', 'filename': 'LV.jpeg', 'size': 2023843, 'type': 'image/jpeg', 'thumbnails': {'small': {'url': 'https://dl.airtable.com/.attachmentThumbnails/5ddac17544d620eca5f7f087dfa77411/12950a9a', 'width': 24, 'height': 36}, 'large': {'url': 'https://dl.airtable.com/.attachmentThumbnails/4409984a1dae40a114a7a93e17e4b44b/49895995', 'width': 512, 'height': 770}, 'full': {'url': 'https://dl.airtable.com/.attachmentThumbnails/cfe60f2d88871443e82ccebbd9c13f32/9d198c1c', 'width': 3000, 'height': 3000}}}], 'bycar': ['recJXPGrNj00JbLlw'], 'visastrategy': ['recYoSCYWcQIYmxkt'], 'citytour': ['recJBKaqMEZvw6Vtt', 'recoIENziRQjCmKwD'], 'dominantlanguage': ['English'], 'howmanywonderfulcitytours': 2}, {'cityname': 'San Francisco/San Jose', 'myrecommendation': 5, 'countrybelonged': 'The U.S.', 'myfirstvisitdate': '2014-12-10', 'landingairportname': 'SFO', 'photosviews': [{'id': 'attRlpaC3ioZwJYG1', 'url': 'https://dl.airtable.com/.attachments/43dbfebaf990c36240f22b989bb9ad61/219a6854/SF.jpeg', 'filename': 'SF.jpeg', 'size': 1810172, 'type': 'image/jpeg', 'thumbnails': {'small': {'url': 'https://dl.airtable.com/.attachmentThumbnails/ec7cd3d8c0222ef20c92ceef60afae82/00e3ec68', 'width': 36, 'height': 36}, 'large': {'url': 'https://dl.airtable.com/.attachmentThumbnails/10b8c6cf3e69ccbed58d2d0f3b12c0be/0a60bf0a', 'width': 512, 'height': 512}, 'full': {'url': 'https://dl.airtable.com/.attachmentThumbnails/fbc49c8484214513c1d87d72be9d32a1/f160b906', 'width': 3000, 'height': 3000}}}], 'byairplane': ['recH2X0537ppC1Map', 'recYHzXl4oBKMX0iZ', 'recqreHHGrauTCOsk', 'recZlviwgcZfJM512'], 'bycar': ['recOFmuE2AHOGuC6d'], 'visastrategy': ['recYoSCYWcQIYmxkt'], 'citytour': ['recH5YVWOpNtBAWI6', 'recn7OK5VJYoZq9f0', 'rect4iWOwF9Qj6HtH'], 'dominantlanguage': ['English'], 'howmanywonderfulcitytours': 3}, {'cityname': 'Seattle', 'myrecommendation': 5, 'countrybelonged': 'The U.S.', 'myfirstvisitdate': '2016-05-21', 'landingairportname': 'SEA', 'photosviews': [{'id': 'attlslzwvIeYKXnpK', 'url': 'https://dl.airtable.com/.attachments/3e4d9252147b2f9062aad2b4bfb57ece/d9444931/SEA.jpeg', 'filename': 'SEA.jpeg', 'size': 404600, 'type': 'image/jpeg', 'thumbnails': {'small': {'url': 'https://dl.airtable.com/.attachmentThumbnails/e4a71538a44e44daa0914ad86a4115b7/4283de86', 'width': 48, 'height': 36}, 'large': {'url': 'https://dl.airtable.com/.attachmentThumbnails/93a5c2231601b5fcf3c9183971b33d0f/aeeac708', 'width': 683, 'height': 512}, 'full': {'url': 'https://dl.airtable.com/.attachmentThumbnails/2d722862ce9d04d7018d4b804c24edb1/abf89094', 'width': 3000, 'height': 3000}}}], 'byairplane': ['recQmmaf5NX7PtBEN', 'recYHzXl4oBKMX0iZ'], 'visastrategy': ['recYoSCYWcQIYmxkt'], 'citytour': ['recd2cKcYkBnRNxBI', 'recLhXpslnRA6ezBR', 'rectbbLbCD1XFu1Yx', 'recdLry0cjRj6QCop'], 'dominantlanguage': ['English'], 'howmanywonderfulcitytours': 4}, {'cityname': 'Vancouver', 'myrecommendation': 5, 'countrybelonged': 'Canada', 'myfirstvisitdate': '2017-11-17', 'photosviews': [{'id': 'attP3zciYIHjQ563F', 'url': 'https://dl.airtable.com/.attachments/2da8abe347051289e4d1ff7f2f278a08/d2e8f746/VANCOUVER.jpeg', 'filename': 'VANCOUVER.jpeg', 'size': 325771, 'type': 'image/jpeg', 'thumbnails': {'small': {'url': 'https://dl.airtable.com/.attachmentThumbnails/ff600f6ac2f085edba1dd46ffa2f2614/e5e4a9cc', 'width': 52, 'height': 36}, 'large': {'url': 'https://dl.airtable.com/.attachmentThumbnails/a7830b3839c41e2cafab550635bcd090/90891634', 'width': 739, 'height': 512}, 'full': {'url': 'https://dl.airtable.com/.attachmentThumbnails/fad6caabebab48311ccce1f7c828453a/882da5cd', 'width': 3000, 'height': 3000}}}], 'bycar': ['recqFWxE1kvr2oJOW'], 'visastrategy': ['recbDp1RSHD6wPru6', 'rec3M9hhGO4PK7wEE'], 'citytour': ['recTSkXSW6drfPa69'], 'dominantlanguage': ['English'], 'howmanywonderfulcitytours': 1}, {'cityname': 'Toronto', 'myrecommendation': 5, 'countrybelonged': 'Canada', 'myfirstvisitdate': '2018-03-25', 'landingairportname': 'YYZ', 'photosviews': [{'id': 'attJYNagwCgaYbKu1', 'url': 'https://dl.airtable.com/.attachments/3cb1423c9bd50071f9e6a7b4ce266494/65954e6a/TORONTO.jpeg', 'filename': 'TORONTO.jpeg', 'size': 1670384, 'type': 'image/jpeg', 'thumbnails': {'small': {'url': 'https://dl.airtable.com/.attachmentThumbnails/9c278d80af4cfbaabfa53980a27f7e60/ab4f70a1', 'width': 54, 'height': 36}, 'large': {'url': 'https://dl.airtable.com/.attachmentThumbnails/0a3c3c4d0a9cb5a0e6cd8e49c758d290/bca4f2f6', 'width': 766, 'height': 512}, 'full': {'url': 'https://dl.airtable.com/.attachmentThumbnails/5ac54fcdf67e7cc9ff0982a6ae71d62b/a55edaa2', 'width': 3000, 'height': 3000}}}], 'byairplane': ['recdAGo18kzRxn1SV'], 'visastrategy': ['reclq1bwHoW8euy4D', 'rec3M9hhGO4PK7wEE'], 'citytour': ['recF2HUDPbyptKnTv', 'recaV0xQ7QrVNpbDf', 'recyQOws67figou8C'], 'dominantlanguage': ['English'], 'howmanywonderfulcitytours': 3}, {'cityname': 'Quebec City', 'myrecommendation': 5, 'countrybelonged': 'Canada', 'myfirstvisitdate': '2018-03-28', 'landingairportname': 'YQB', 'photosviews': [{'id': 'attPU35VYXifVyRr8', 'url': 'https://dl.airtable.com/.attachments/66095e34d4227b889251be5e7e6f83f0/3da905be/Quebec.jpeg', 'filename': 'Quebec.jpeg', 'size': 2453297, 'type': 'image/jpeg', 'thumbnails': {'small': {'url': 'https://dl.airtable.com/.attachmentThumbnails/4bdeab16c33aa2bdd0dc38f90182f6e2/cc60491e', 'width': 54, 'height': 36}, 'large': {'url': 'https://dl.airtable.com/.attachmentThumbnails/cc4fd5b2dccfe875945be724e8238bc2/9f695063', 'width': 766, 'height': 512}, 'full': {'url': 'https://dl.airtable.com/.attachmentThumbnails/d2f8f98aac170ea1d59221f69598d243/bc464050', 'width': 3000, 'height': 3000}}}], 'byairplane': ['recdAGo18kzRxn1SV'], 'visastrategy': ['rec3M9hhGO4PK7wEE', 'recbDp1RSHD6wPru6'], 'citytour': ['recJz0K0rgi28ZHTQ', 'recT9OkkBBpigwpV7'], 'dominantlanguage': ['English', 'French'], 'howmanywonderfulcitytours': 2}, {'cityname': 'Boston', 'myrecommendation': 3, 'countrybelonged': 'The U.S.', 'myfirstvisitdate': '2017-12-23', 'landingairportname': 'BOS', 'photosviews': [{'id': 'attm76F0STmxFKIEb', 'url': 'https://dl.airtable.com/.attachments/15b5c40aedca5bccc37e94c0a6b66282/304a086d/boston.jpeg', 'filename': 'boston.jpeg', 'size': 170344, 'type': 'image/jpeg', 'thumbnails': {'small': {'url': 'https://dl.airtable.com/.attachmentThumbnails/1a6dfac719456e79e04da4b5f20070be/6df47412', 'width': 64, 'height': 36}, 'large': {'url': 'https://dl.airtable.com/.attachmentThumbnails/032e401e6c741477ee85c46e02aadc3f/649e761e', 'width': 750, 'height': 421}, 'full': {'url': 'https://dl.airtable.com/.attachmentThumbnails/cd931b3c324a1d9a6d9dbd864930fae9/c9393afd', 'width': 3000, 'height': 3000}}}], 'byairplane': ['recYHzXl4oBKMX0iZ', 'recyPxp87p9MxvOki'], 'visastrategy': ['recYoSCYWcQIYmxkt'], 'citytour': ['recK74LnZ6LOeO5Me'], 'dominantlanguage': ['English'], 'howmanywonderfulcitytours': 1}, {'cityname': 'New York', 'myrecommendation': 5, 'countrybelonged': 'The U.S.', 'myfirstvisitdate': '2017-12-20', 'landingairportname': 'JFK & EWR', 'photosviews': [{'id': 'attvPOqQZtJ9HW5r8', 'url': 'https://dl.airtable.com/.attachments/bf246c10818889b9690781f1aad0d30b/87adeb08/NYC.jpeg', 'filename': 'NYC.jpeg', 'size': 198673, 'type': 'image/jpeg', 'thumbnails': {'small': {'url': 'https://dl.airtable.com/.attachmentThumbnails/8c440c11b79f3b43ea376aae766ae199/fd0b3dc2', 'width': 33, 'height': 36}, 'large': {'url': 'https://dl.airtable.com/.attachmentThumbnails/b569fff46b4d1107c40432728b1a814f/c8a96602', 'width': 512, 'height': 557}, 'full': {'url': 'https://dl.airtable.com/.attachmentThumbnails/2b90265a15613c2ef0588b4f3b0d29ab/d4d2d700', 'width': 3000, 'height': 3000}}}], 'byairplane': ['recax7IVYuPCxBZFc', 'recYHzXl4oBKMX0iZ', 'recyPxp87p9MxvOki'], 'bycar': ['recjvDjMz1q7aBkAg'], 'visastrategy': ['recYoSCYWcQIYmxkt'], 'citytour': ['recvJ9VRNWbHpISbe', 'rec6X9bjqonEThly6', 'recjdLYCAc8xXWxYs', 'recUqcjQ0ZqbpxwyH', 'recoRk7djfj1cB6Ne', 'recBMbMtjdPk9DAVF', 'recoe20Di80DrS3iu'], 'dominantlanguage': ['English'], 'howmanywonderfulcitytours': 7}, {'cityname': 'Philly', 'myrecommendation': 4, 'countrybelonged': 'The U.S.', 'myfirstvisitdate': '2018-11-22', 'photosviews': [{'id': 'attbs0pibYeftrjGF', 'url': 'https://dl.airtable.com/.attachments/9a8dc40f12f7d1efea4ae31d7d361506/5eb271ac/PHILLY.jpeg', 'filename': 'PHILLY.jpeg', 'size': 277048, 'type': 'image/jpeg', 'thumbnails': {'small': {'url': 'https://dl.airtable.com/.attachmentThumbnails/add0e1c1c2a12b18afd3e80f917f3738/4d9a6da9', 'width': 22, 'height': 36}, 'large': {'url': 'https://dl.airtable.com/.attachmentThumbnails/8f5c6c87b3946dc3504ae7debef6a18b/933d3b55', 'width': 512, 'height': 850}, 'full': {'url': 'https://dl.airtable.com/.attachmentThumbnails/c82728d81fad8ae43d3489c1c0bc8ffa/84dfeb4b', 'width': 3000, 'height': 3000}}}], 'bycar': ['recjvDjMz1q7aBkAg'], 'visastrategy': ['recYoSCYWcQIYmxkt'], 'citytour': ['rect4c4QVeeawqd8Q', 'recTL9ecyAtnmo7Jo'], 'dominantlanguage': ['English'], 'howmanywonderfulcitytours': 2}, {'cityname': 'Orlando', 'myrecommendation': 4, 'countrybelonged': 'The U.S.', 'myfirstvisitdate': '2019-03-28', 'photosviews': [{'id': 'attCf5kdld6a2Vfkh', 'url': 'https://dl.airtable.com/.attachments/b42fa59cc25c046216c5d36cedf26a03/ada64287/OELANDO.jpeg', 'filename': 'OELANDO.jpeg', 'size': 373288, 'type': 'image/jpeg', 'thumbnails': {'small': {'url': 'https://dl.airtable.com/.attachmentThumbnails/1458d625ef6c46522f2caf989bd8f3cd/9e651158', 'width': 54, 'height': 36}, 'large': {'url': 'https://dl.airtable.com/.attachmentThumbnails/320c3a1a24d98ac127dabac8e816fcf2/923c1da0', 'width': 768, 'height': 512}, 'full': {'url': 'https://dl.airtable.com/.attachmentThumbnails/c7cb87611d77c4c05985b2da2a88cd02/3e7c3d59', 'width': 3000, 'height': 3000}}}], 'byairplane': ['recYHzXl4oBKMX0iZ', 'recv0JNVFp7HcMGQw'], 'bycar': ['recduYIom845VI0n5'], 'visastrategy': ['recYoSCYWcQIYmxkt'], 'citytour': ['rec95NuIHRl0RB0px'], 'dominantlanguage': ['English'], 'howmanywonderfulcitytours': 1}, {'cityname': 'Miami', 'myrecommendation': 5, 'countrybelonged': 'The U.S.', 'myfirstvisitdate': '2019-03-26', 'landingairportname': 'MIA', 'photosviews': [{'id': 'attlVfeEhr4Z3nAYP', 'url': 'https://dl.airtable.com/.attachments/2631d16c3cfb35386f8fcf0d7e9c5cf3/15e19da2/MIAMI.jpeg', 'filename': 'MIAMI.jpeg', 'size': 4398985, 'type': 'image/jpeg', 'thumbnails': {'small': {'url': 'https://dl.airtable.com/.attachmentThumbnails/4612988881b257839df60f0108420efd/c8faf574', 'width': 54, 'height': 36}, 'large': {'url': 'https://dl.airtable.com/.attachmentThumbnails/8f4a66eef264d1a72665114a0e97e245/683f98c3', 'width': 768, 'height': 512}, 'full': {'url': 'https://dl.airtable.com/.attachmentThumbnails/bbe82526236dccea900b1c5ce9df219a/983ab213', 'width': 3000, 'height': 3000}}}], 'byairplane': ['recYHzXl4oBKMX0iZ', 'recax7IVYuPCxBZFc'], 'bycar': ['recduYIom845VI0n5'], 'visastrategy': ['recYoSCYWcQIYmxkt'], 'citytour': ['rec9BX4FHb7un3VMI', 'recst0p5hJhZ3u4SN'], 'dominantlanguage': ['English', 'Spanish'], 'howmanywonderfulcitytours': 2}, {'cityname': 'Havana', 'myrecommendation': 5, 'countrybelonged': 'Cuba', 'myfirstvisitdate': '2019-03-22', 'landingairportname': 'HAV', 'photosviews': [{'id': 'attt0ZI0wdpsCIjNB', 'url': 'https://dl.airtable.com/.attachments/eb42bd949dd9f43b704b2ede7e774f0a/a42244bc/HAVANA.jpeg', 'filename': 'HAVANA.jpeg', 'size': 4065673, 'type': 'image/jpeg', 'thumbnails': {'small': {'url': 'https://dl.airtable.com/.attachmentThumbnails/68e0449b41e4cbde5ff948160e86d41f/63496186', 'width': 29, 'height': 36}, 'large': {'url': 'https://dl.airtable.com/.attachmentThumbnails/30b0c2af8ab5bab19cf910ffea8056da/37327589', 'width': 512, 'height': 640}, 'full': {'url': 'https://dl.airtable.com/.attachmentThumbnails/980b73fab08f31462ce40a625570ef77/3749e93f', 'width': 3000, 'height': 3000}}}], 'byairplane': ['recYHzXl4oBKMX0iZ', 'recax7IVYuPCxBZFc'], 'visastrategy': ['reckDcO31ces6CEMb', 'reclq1bwHoW8euy4D'], 'citytour': ['rec4xjKw2nxo9w2Y1', 'rec4HRM46UjDeX1ZS', 'rec5hPm49rEjKRKbp'], 'dominantlanguage': ['Spanish'], 'howmanywonderfulcitytours': 3}]\n",
      "\n",
      "\n",
      "['LAX', None, None, 'SFO', 'SEA', None, 'YYZ', 'YQB', 'BOS', 'JFK & EWR', None, None, 'MIA', 'HAV']\n"
     ]
    }
   ],
   "source": [
    "import requests\n",
    "\n",
    "headers = {\n",
    "'Authorization': 'keyc1CgitILfZVCTA',\n",
    "}\n",
    "\n",
    "params = (\n",
    "('view', 'Grid view'),\n",
    ")\n",
    "\n",
    "r = requests.get('https://api.airtable.com/v0/appchomlKhH2n3ymU/North%20American%20travel%20cities?api_key=keyc1CgitILfZVCTA', headers=headers, params=params)\n",
    "dict = r.json()\n",
    "dataset = []\n",
    "cityname = []\n",
    "countrybelonged = []\n",
    "landingairportname = []\n",
    "for i in dict['records']:\n",
    "     dict = i['fields']\n",
    "     dataset.append(dict)\n",
    "print(dataset)\n",
    "print('\\n')\n",
    "for dicts in dataset:\n",
    "    cityname.append(dicts.get('cityname'))\n",
    "    countrybelonged.append(dicts.get('countrybelonged'))\n",
    "    landingairportname.append(dicts.get('landingairportname'))\n",
    "print(landingairportname)"
   ]
  },
  {
   "cell_type": "code",
   "execution_count": null,
   "metadata": {},
   "outputs": [],
   "source": []
  }
 ],
 "metadata": {
  "kernelspec": {
   "display_name": "Python 3",
   "language": "python",
   "name": "python3"
  },
  "language_info": {
   "codemirror_mode": {
    "name": "ipython",
    "version": 3
   },
   "file_extension": ".py",
   "mimetype": "text/x-python",
   "name": "python",
   "nbconvert_exporter": "python",
   "pygments_lexer": "ipython3",
   "version": "3.7.4"
  }
 },
 "nbformat": 4,
 "nbformat_minor": 2
}
